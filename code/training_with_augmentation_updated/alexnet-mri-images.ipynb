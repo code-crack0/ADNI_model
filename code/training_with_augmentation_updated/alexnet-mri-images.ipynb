{
 "cells": [
  {
   "cell_type": "code",
   "execution_count": null,
   "metadata": {
    "execution": {
     "iopub.execute_input": "2025-04-05T16:20:31.958412Z",
     "iopub.status.busy": "2025-04-05T16:20:31.958115Z",
     "iopub.status.idle": "2025-04-05T16:20:31.963254Z",
     "shell.execute_reply": "2025-04-05T16:20:31.962482Z",
     "shell.execute_reply.started": "2025-04-05T16:20:31.958392Z"
    },
    "trusted": true
   },
   "outputs": [],
   "source": [
    "import os\n",
    "import numpy as np\n",
    "import torch\n",
    "import torchvision\n",
    "import torch.nn as nn\n",
    "import torch.optim as optim\n",
    "from torchvision import transforms, datasets\n",
    "from sklearn.model_selection import KFold\n",
    "import matplotlib.pyplot as plt\n",
    "from tqdm import tqdm  \n",
    "from torchvision.models import alexnet, AlexNet_Weights\n",
    "from torch.optim.lr_scheduler import ReduceLROnPlateau\n",
    "from collections import Counter\n",
    "from torch.optim.lr_scheduler import StepLR\n",
    "from torch.utils.data import DataLoader\n",
    "from torchvision.models import resnet18, ResNet18_Weights\n",
    "from sklearn.metrics import classification_report, confusion_matrix\n",
    "import pandas as pd"
   ]
  },
  {
   "cell_type": "markdown",
   "metadata": {},
   "source": [
    "Dataset Processing and Parameters"
   ]
  },
  {
   "cell_type": "code",
   "execution_count": null,
   "metadata": {
    "execution": {
     "iopub.execute_input": "2025-04-05T16:20:31.964860Z",
     "iopub.status.busy": "2025-04-05T16:20:31.964531Z",
     "iopub.status.idle": "2025-04-05T16:20:31.979209Z",
     "shell.execute_reply": "2025-04-05T16:20:31.978358Z",
     "shell.execute_reply.started": "2025-04-05T16:20:31.964828Z"
    },
    "trusted": true
   },
   "outputs": [],
   "source": [
    "data_dir = \"../mri-images/T1_augmented_hflip\"\n",
    "batch_size = 16\n",
    "num_epochs = 15\n",
    "learning_rate = 0.0001  # Learning rate parameter\n"
   ]
  },
  {
   "cell_type": "code",
   "execution_count": null,
   "metadata": {
    "execution": {
     "iopub.execute_input": "2025-04-05T16:20:31.980836Z",
     "iopub.status.busy": "2025-04-05T16:20:31.980521Z",
     "iopub.status.idle": "2025-04-05T16:20:31.997062Z",
     "shell.execute_reply": "2025-04-05T16:20:31.996258Z",
     "shell.execute_reply.started": "2025-04-05T16:20:31.980803Z"
    },
    "trusted": true
   },
   "outputs": [],
   "source": [
    "device = torch.device(\"cuda\" if torch.cuda.is_available() else \"cpu\")"
   ]
  },
  {
   "cell_type": "code",
   "execution_count": null,
   "metadata": {},
   "outputs": [],
   "source": [
    "# Transformations: replicate grayscale channels to match AlexNet's input requirements (3 channels)\n",
    "transform = transforms.Compose([\n",
    "    transforms.Grayscale(num_output_channels=3),  # Convert grayscale to 3 channels\n",
    "    transforms.Resize((224, 224)),               # Resize to AlexNet input size\n",
    "    transforms.ToTensor(),                       # Convert to tensor\n",
    "    transforms.Normalize(mean=[0.485, 0.456, 0.406],  # ImageNet mean\n",
    "                         std=[0.229, 0.224, 0.225])   # ImageNet std\n",
    "])"
   ]
  },
  {
   "cell_type": "code",
   "execution_count": null,
   "metadata": {
    "execution": {
     "iopub.execute_input": "2025-04-05T16:20:31.998091Z",
     "iopub.status.busy": "2025-04-05T16:20:31.997881Z",
     "iopub.status.idle": "2025-04-05T16:20:33.777986Z",
     "shell.execute_reply": "2025-04-05T16:20:33.777281Z",
     "shell.execute_reply.started": "2025-04-05T16:20:31.998073Z"
    },
    "trusted": true
   },
   "outputs": [],
   "source": [
    "# Load dataset\n",
    "dataset = datasets.ImageFolder(root=data_dir, transform=transform)\n",
    "\n",
    "# Prepare 5-fold cross-validation\n",
    "kf = KFold(n_splits=5, shuffle=True, random_state=42)\n",
    "\n",
    "# Results dictionary to store validation results for each fold\n",
    "results = {}\n",
    "results_train={}\n",
    "\n",
    "# Perform cross-validation and store metrics for all folds\n",
    "all_train_losses, all_val_losses = [], []\n",
    "all_train_accuracies, all_val_accuracies = [], []"
   ]
  },
  {
   "cell_type": "code",
   "execution_count": null,
   "metadata": {},
   "outputs": [],
   "source": [
    "# Reverse the class_to_idx mapping to get idx_to_class\n",
    "idx_to_class = {v: k for k, v in dataset.class_to_idx.items()}"
   ]
  },
  {
   "cell_type": "code",
   "execution_count": null,
   "metadata": {
    "execution": {
     "iopub.execute_input": "2025-04-05T16:20:33.779025Z",
     "iopub.status.busy": "2025-04-05T16:20:33.778740Z",
     "iopub.status.idle": "2025-04-05T16:20:33.783223Z",
     "shell.execute_reply": "2025-04-05T16:20:33.782600Z",
     "shell.execute_reply.started": "2025-04-05T16:20:33.778997Z"
    },
    "trusted": true
   },
   "outputs": [],
   "source": [
    "print(f\"Number of classes: {len(dataset.classes)}\")\n",
    "print(f\"Class names: {dataset.classes}\")"
   ]
  },
  {
   "cell_type": "code",
   "execution_count": null,
   "metadata": {
    "execution": {
     "iopub.execute_input": "2025-04-05T16:20:33.784125Z",
     "iopub.status.busy": "2025-04-05T16:20:33.783941Z",
     "iopub.status.idle": "2025-04-05T16:20:33.799988Z",
     "shell.execute_reply": "2025-04-05T16:20:33.799286Z",
     "shell.execute_reply.started": "2025-04-05T16:20:33.784108Z"
    },
    "trusted": true
   },
   "outputs": [],
   "source": [
    "class_counts = Counter(dataset.targets)\n",
    "print(f\"Number of images in each class: {class_counts}\")"
   ]
  },
  {
   "cell_type": "code",
   "execution_count": null,
   "metadata": {},
   "outputs": [],
   "source": [
    "# Define the model (AlexNet with 3-channel input for grayscale images)\n",
    "class AlexNetClassifier(nn.Module):\n",
    "    def __init__(self, num_classes):\n",
    "        super(AlexNetClassifier, self).__init__()\n",
    "        # Load AlexNet with pre-trained weights\n",
    "        self.model = alexnet(weights=AlexNet_Weights.IMAGENET1K_V1)\n",
    "        # Modify the final fully connected layer to match the number of classes\n",
    "        self.model.classifier[6] = nn.Linear(self.model.classifier[6].in_features, num_classes)\n",
    "\n",
    "    def forward(self, x):\n",
    "        return self.model(x)"
   ]
  },
  {
   "cell_type": "code",
   "execution_count": null,
   "metadata": {
    "execution": {
     "iopub.execute_input": "2025-04-05T16:20:33.801618Z",
     "iopub.status.busy": "2025-04-05T16:20:33.801367Z",
     "iopub.status.idle": "2025-04-05T17:08:06.364759Z",
     "shell.execute_reply": "2025-04-05T17:08:06.363877Z",
     "shell.execute_reply.started": "2025-04-05T16:20:33.801593Z"
    },
    "trusted": true
   },
   "outputs": [],
   "source": [
    "# early stopping criteria\n",
    "# patience = 8 # Number of epochs to wait for improvement\n",
    "\n",
    "screen_width = 80\n",
    "for fold_idx, (train_idx, val_idx) in enumerate(kf.split(dataset)):\n",
    "    # Create the fold header with \"--\" padding\n",
    "    fold_header = f\" Fold {fold_idx+1}/{kf.n_splits} \"\n",
    "    padding = (screen_width - len(fold_header)) // 2\n",
    "    print(f\"{'-' * padding}{fold_header}{'-' * padding}\")\n",
    "    \n",
    "    # Split dataset into train and validation sets based on indices\n",
    "    train_subset = torch.utils.data.Subset(dataset, train_idx)\n",
    "    val_subset = torch.utils.data.Subset(dataset, val_idx)\n",
    "    \n",
    "    train_loader = torch.utils.data.DataLoader(train_subset, batch_size=batch_size, shuffle=True)\n",
    "    val_loader = torch.utils.data.DataLoader(val_subset, batch_size=batch_size, shuffle=False)\n",
    "    \n",
    "    # Initialize the model\n",
    "    model = AlexNetClassifier(num_classes=len(dataset.classes)).to(device)\n",
    "\n",
    "    # Move the model to the GPU\n",
    "    model = model.to(device)\n",
    "        \n",
    "    criterion = nn.CrossEntropyLoss()\n",
    "    \n",
    "    # Use SGD optimizer with momentum\n",
    "    # optimizer = optim.SGD(model.parameters(), lr=learning_rate, momentum=0.9, weight_decay=1e-4)\n",
    "    optimizer = optim.Adam(model.parameters(), lr=learning_rate)\n",
    "\n",
    "    # Add a ReduceLROnPlateau scheduler\n",
    "    # scheduler = ReduceLROnPlateau(optimizer, mode='min', factor=0.5, patience=3)\n",
    "\n",
    "    # Early stopping parameters\n",
    "    best_val_loss = float('inf')  # Initialize best validation loss\n",
    "    epochs_without_improvement = 0  # Counter for epochs without improvement\n",
    "\n",
    "    # Store metrics for plotting later\n",
    "    train_losses, val_losses = [], []\n",
    "    train_accuracies, val_accuracies = [], []\n",
    "    \n",
    "    for epoch in range(num_epochs):\n",
    "        print(f\"Epoch {epoch+1}/{num_epochs}\")\n",
    "        \n",
    "        # Training phase with tqdm progress bar\n",
    "        model.train()\n",
    "        running_loss, correct_preds, total_samples = 0.0, 0, 0\n",
    "        \n",
    "        train_loader_tqdm = tqdm(train_loader, desc=\"Training\", leave=False)\n",
    "        for inputs, labels in train_loader_tqdm:\n",
    "            inputs, labels = inputs.to(device), labels.to(device)\n",
    "            \n",
    "            optimizer.zero_grad()\n",
    "            outputs = model(inputs)\n",
    "            loss = criterion(outputs, labels)\n",
    "            loss.backward()\n",
    "            optimizer.step()\n",
    "            \n",
    "            running_loss += loss.item() * inputs.size(0)\n",
    "            _, preds = torch.max(outputs, 1)\n",
    "            correct_preds += (preds == labels).sum().item()\n",
    "            total_samples += labels.size(0)\n",
    "        \n",
    "        epoch_train_loss = running_loss / total_samples\n",
    "        epoch_train_acc = correct_preds / total_samples\n",
    "        \n",
    "        train_losses.append(epoch_train_loss)\n",
    "        train_accuracies.append(epoch_train_acc)\n",
    "\n",
    "        print(f\"Train Loss: {epoch_train_loss:.4f}, Train Accuracy: {epoch_train_acc:.4f}\")\n",
    "      \n",
    "        # Validation phase with tqdm progress bar\n",
    "        model.eval()\n",
    "        all_preds = []\n",
    "        all_labels = [] \n",
    "        running_loss, correct_preds, total_samples = 0.0, 0, 0\n",
    "        \n",
    "        val_loader_tqdm = tqdm(val_loader, desc=\"Validation\", leave=False)\n",
    "        with torch.no_grad():\n",
    "            for inputs, labels in val_loader_tqdm:\n",
    "                inputs, labels = inputs.to(device), labels.to(device)\n",
    "                \n",
    "                outputs = model(inputs)\n",
    "                loss = criterion(outputs, labels)\n",
    "            \n",
    "                running_loss += loss.item() * inputs.size(0)\n",
    "                _, preds = torch.max(outputs, 1)\n",
    "                \n",
    "                correct_preds += (preds == labels).sum().item()\n",
    "                total_samples += labels.size(0)\n",
    "\n",
    "                all_labels.extend(labels.cpu().numpy())\n",
    "                all_preds.extend(preds.cpu().numpy())\n",
    "                \n",
    "        # Check if it's the last epoch\n",
    "        if epoch == num_epochs - 1:\n",
    "            \n",
    "            # Convert numeric predictions and labels to class names\n",
    "            all_labels_names = [idx_to_class[label] for label in all_labels]\n",
    "            all_predictions_names = [idx_to_class[pred] for pred in all_preds]\n",
    "\n",
    "            # Calculate confusion matrix\n",
    "            conf_matrix = confusion_matrix(all_labels, all_preds)\n",
    "\n",
    "            # Create a DataFrame for better visualization\n",
    "            conf_matrix_df = pd.DataFrame(\n",
    "                conf_matrix,\n",
    "                index=[f\"True: {label}\" for label in dataset.classes],  # True labels\n",
    "                columns=[f\"Pred: {label}\" for label in dataset.classes]  # Predicted labels\n",
    "            )\n",
    "\n",
    "            # Print metrics\n",
    "            print(\"\\nConfusion Matrix:\")\n",
    "            print(conf_matrix_df)\n",
    "\n",
    "            # Print detailed classification report\n",
    "            print(classification_report(all_labels, all_preds, target_names=dataset.classes))\n",
    "        \n",
    "        epoch_val_loss = running_loss / total_samples\n",
    "        epoch_val_acc = correct_preds / total_samples\n",
    "        \n",
    "        val_losses.append(epoch_val_loss)\n",
    "        val_accuracies.append(epoch_val_acc)\n",
    "\n",
    "        print(f\"Val Loss: {epoch_val_loss:.4f}, Val Accuracy: {epoch_val_acc:.4f}\")\n",
    "        # scheduler.step(epoch_val_loss)\n",
    "\n",
    "        # Log the updated learning rate\n",
    "        # current_lr = scheduler.get_last_lr()\n",
    "        # print(f\"Epoch {epoch+1}: Current Learning Rate: {current_lr}\")\n",
    "\n",
    "        # # Early stopping logic\n",
    "        # if epoch_val_loss < best_val_loss:\n",
    "        #     best_val_loss = epoch_val_loss\n",
    "        #     epochs_without_improvement = 0  # Reset counter\n",
    "        #     print(\"Validation loss improved. \")\n",
    "        #     # print(\"Saving Model...\")\n",
    "        #     # torch.save(model.state_dict(), f\"best_model_fold_{fold_idx+1}.pth\")  # Save the best model\n",
    "        # else:\n",
    "        #     epochs_without_improvement += 1\n",
    "        #     print(f\"No improvement in validation loss for {epochs_without_improvement} epoch(s).\")\n",
    "\n",
    "        # if epochs_without_improvement >= patience:\n",
    "        #     print(\"Early stopping triggered.\")\n",
    "\n",
    "        #     # Convert numeric predictions and labels to class names\n",
    "        #     all_labels_names = [idx_to_class[label] for label in all_labels]\n",
    "        #     all_predictions_names = [idx_to_class[pred] for pred in all_preds]\n",
    "\n",
    "        #     # Calculate confusion matrix\n",
    "        #     conf_matrix = confusion_matrix(all_labels, all_preds)\n",
    "\n",
    "        #     # Create a DataFrame for better visualization\n",
    "        #     conf_matrix_df = pd.DataFrame(\n",
    "        #         conf_matrix,\n",
    "        #         index=[f\"True: {label}\" for label in dataset.classes],  # True labels\n",
    "        #         columns=[f\"Pred: {label}\" for label in dataset.classes]  # Predicted labels\n",
    "        #     )\n",
    "\n",
    "        #     # Print metrics\n",
    "        #     print(\"\\nConfusion Matrix:\")\n",
    "        #     print(conf_matrix_df)\n",
    "\n",
    "        #     # Print detailed classification report\n",
    "        #     print(classification_report(all_labels, all_preds, target_names=dataset.classes))\n",
    "\n",
    "        #     break\n",
    "\n",
    "    all_train_losses.append(train_losses)\n",
    "    all_val_losses.append(val_losses)\n",
    "    all_train_accuracies.append(train_accuracies)\n",
    "    all_val_accuracies.append(val_accuracies)\n",
    "\n",
    "    # Store validation accuracy of this fold in the results dictionary\n",
    "    results[f\"Fold {fold_idx+1}\"] = epoch_val_acc\n",
    "    results_train[f\"Fold {fold_idx+1}\"] = epoch_train_acc"
   ]
  },
  {
   "cell_type": "code",
   "execution_count": null,
   "metadata": {
    "execution": {
     "iopub.execute_input": "2025-04-05T17:08:06.366193Z",
     "iopub.status.busy": "2025-04-05T17:08:06.365882Z",
     "iopub.status.idle": "2025-04-05T17:08:06.642715Z",
     "shell.execute_reply": "2025-04-05T17:08:06.641742Z",
     "shell.execute_reply.started": "2025-04-05T17:08:06.366163Z"
    },
    "trusted": true
   },
   "outputs": [],
   "source": [
    "# torch.save(model.state_dict(), \"/kaggle/working/model\")"
   ]
  },
  {
   "cell_type": "code",
   "execution_count": null,
   "metadata": {
    "execution": {
     "iopub.execute_input": "2025-04-05T17:08:06.644080Z",
     "iopub.status.busy": "2025-04-05T17:08:06.643853Z",
     "iopub.status.idle": "2025-04-05T17:08:06.650151Z",
     "shell.execute_reply": "2025-04-05T17:08:06.649466Z",
     "shell.execute_reply.started": "2025-04-05T17:08:06.644061Z"
    },
    "trusted": true
   },
   "outputs": [],
   "source": [
    "# Calculate average accuracy across all folds\n",
    "average_accuracy = np.mean(list(results.values()))\n",
    "\n",
    "# Print results for each fold and average accuracy\n",
    "print(\"\\nValidation Results:\")\n",
    "for fold_name, accuracy in results.items():\n",
    "    print(f\"{fold_name}: {accuracy:.4f}\")\n",
    "print(f\"Average Validation Accuracy: {average_accuracy:.4f}\")"
   ]
  },
  {
   "cell_type": "code",
   "execution_count": null,
   "metadata": {
    "execution": {
     "iopub.execute_input": "2025-04-05T17:08:06.651331Z",
     "iopub.status.busy": "2025-04-05T17:08:06.651052Z",
     "iopub.status.idle": "2025-04-05T17:08:06.665836Z",
     "shell.execute_reply": "2025-04-05T17:08:06.665017Z",
     "shell.execute_reply.started": "2025-04-05T17:08:06.651299Z"
    },
    "trusted": true
   },
   "outputs": [],
   "source": [
    "# Calculate average accuracy across all folds\n",
    "average_train_accuracy = np.mean(list(results_train.values()))\n",
    "\n",
    "# Print results for each fold and average accuracy\n",
    "print(\"\\nTrain Results:\")\n",
    "for fold_name, accuracy in results_train.items():\n",
    "    print(f\"{fold_name}: {accuracy:.4f}\")\n",
    "print(f\"Average Train Accuracy: {average_train_accuracy:.4f}\")"
   ]
  }
 ],
 "metadata": {
  "kaggle": {
   "accelerator": "gpu",
   "dataSources": [
    {
     "datasetId": 6983313,
     "sourceId": 11186743,
     "sourceType": "datasetVersion"
    },
    {
     "datasetId": 7022152,
     "sourceId": 11239812,
     "sourceType": "datasetVersion"
    },
    {
     "datasetId": 7056226,
     "sourceId": 11285642,
     "sourceType": "datasetVersion"
    },
    {
     "datasetId": 7057592,
     "sourceId": 11287606,
     "sourceType": "datasetVersion"
    }
   ],
   "dockerImageVersionId": 30919,
   "isGpuEnabled": true,
   "isInternetEnabled": true,
   "language": "python",
   "sourceType": "notebook"
  },
  "kernelspec": {
   "display_name": ".venv",
   "language": "python",
   "name": "python3"
  },
  "language_info": {
   "codemirror_mode": {
    "name": "ipython",
    "version": 3
   },
   "file_extension": ".py",
   "mimetype": "text/x-python",
   "name": "python",
   "nbconvert_exporter": "python",
   "pygments_lexer": "ipython3",
   "version": "3.13.1"
  }
 },
 "nbformat": 4,
 "nbformat_minor": 4
}
