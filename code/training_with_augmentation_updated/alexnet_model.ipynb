{
 "cells": [
  {
   "cell_type": "code",
   "execution_count": 15,
   "metadata": {},
   "outputs": [],
   "source": [
    "import os\n",
    "import numpy as np\n",
    "import torch\n",
    "import torchvision\n",
    "import torch.nn as nn\n",
    "import torch.optim as optim\n",
    "from torchvision import transforms, datasets\n",
    "from sklearn.model_selection import KFold\n",
    "import matplotlib.pyplot as plt\n",
    "from tqdm import tqdm  \n",
    "from torchvision.models import alexnet, AlexNet_Weights\n",
    "from torch.optim.lr_scheduler import ReduceLROnPlateau\n",
    "from collections import Counter\n",
    "from torch.optim.lr_scheduler import StepLR\n",
    "from torch.utils.data import DataLoader"
   ]
  },
  {
   "cell_type": "markdown",
   "metadata": {},
   "source": [
    "Dataset Processing and Parameters"
   ]
  },
  {
   "cell_type": "code",
   "execution_count": 16,
   "metadata": {},
   "outputs": [],
   "source": [
    "data_dir = \"../mri-images/augmented-images-v3\"\n",
    "batch_size = 32\n",
    "num_epochs = 30\n",
    "learning_rate = 0.001  # Learning rate parameter\n"
   ]
  },
  {
   "cell_type": "code",
   "execution_count": 17,
   "metadata": {},
   "outputs": [],
   "source": [
    "device = torch.device(\"cuda\" if torch.cuda.is_available() else \"cpu\")"
   ]
  },
  {
   "cell_type": "code",
   "execution_count": 18,
   "metadata": {},
   "outputs": [],
   "source": [
    "# Transformations: replicate grayscale channels to match AlexNet's input requirements (3 channels)\n",
    "transform = transforms.Compose([\n",
    "    transforms.Grayscale(num_output_channels=3),  # Replicate grayscale to 3 channels\n",
    "    transforms.Resize((224, 224)),               # Resize to AlexNet input size\n",
    "    transforms.ToTensor(),                       # Convert to tensor\n",
    "    transforms.Normalize([0.5, 0.5, 0.5], [0.5, 0.5, 0.5])  # Normalize channels\n",
    "])\n",
    "\n",
    "# Load dataset\n",
    "dataset = datasets.ImageFolder(root=data_dir, transform=transform)\n",
    "\n",
    "# Prepare 5-fold cross-validation\n",
    "kf = KFold(n_splits=5, shuffle=True, random_state=42)\n",
    "\n",
    "# Results dictionary to store validation results for each fold\n",
    "results = {}\n",
    "results_train={}\n",
    "\n",
    "# Perform cross-validation and store metrics for all folds\n",
    "all_train_losses, all_val_losses = [], []\n",
    "all_train_accuracies, all_val_accuracies = [], []"
   ]
  },
  {
   "cell_type": "code",
   "execution_count": 19,
   "metadata": {},
   "outputs": [
    {
     "name": "stdout",
     "output_type": "stream",
     "text": [
      "Number of classes: 3\n",
      "Class names: ['AD', 'CN', 'MCI']\n"
     ]
    }
   ],
   "source": [
    "print(f\"Number of classes: {len(dataset.classes)}\")\n",
    "print(f\"Class names: {dataset.classes}\")"
   ]
  },
  {
   "cell_type": "code",
   "execution_count": 20,
   "metadata": {},
   "outputs": [
    {
     "name": "stdout",
     "output_type": "stream",
     "text": [
      "Number of images in each class: Counter({2: 932, 0: 916, 1: 916})\n"
     ]
    }
   ],
   "source": [
    "class_counts = Counter(dataset.targets)\n",
    "print(f\"Number of images in each class: {class_counts}\")"
   ]
  },
  {
   "cell_type": "code",
   "execution_count": null,
   "metadata": {},
   "outputs": [],
   "source": [
    "# early stopping criteria\n",
    "patience = 5  # Number of epochs to wait for improvement\n",
    "\n",
    "screen_width = 80\n",
    "for fold_idx, (train_idx, val_idx) in enumerate(kf.split(dataset)):\n",
    "    # Create the fold header with \"--\" padding\n",
    "    fold_header = f\" Fold {fold_idx+1}/{kf.n_splits} \"\n",
    "    padding = (screen_width - len(fold_header)) // 2\n",
    "    print(f\"{'-' * padding}{fold_header}{'-' * padding}\")\n",
    "    \n",
    "    # Split dataset into train and validation sets based on indices\n",
    "    train_subset = torch.utils.data.Subset(dataset, train_idx)\n",
    "    val_subset = torch.utils.data.Subset(dataset, val_idx)\n",
    "    \n",
    "    train_loader = torch.utils.data.DataLoader(train_subset, batch_size=batch_size, shuffle=True)\n",
    "    val_loader = torch.utils.data.DataLoader(val_subset, batch_size=batch_size, shuffle=False)\n",
    "    \n",
    "    # Load AlexNet with updated pre-trained weights\n",
    "    # Instantiate a new AlexNet model for each fold\n",
    "    weights = AlexNet_Weights.DEFAULT \n",
    "    model = alexnet(weights=weights)\n",
    "    model.classifier[6] = nn.Linear(4096, len(dataset.classes))  # Modify final layer to match number of classes\n",
    "    model = model.to(device)\n",
    "\n",
    "    # Move the model to the GPU\n",
    "    model = model.to(device)\n",
    "        \n",
    "    criterion = nn.CrossEntropyLoss()\n",
    "    \n",
    "    # Use SGD optimizer with momentum\n",
    "    optimizer = optim.SGD(model.parameters(), lr=learning_rate, momentum=0.9, weight_decay=1e-4)\n",
    "\n",
    "    # Add a ReduceLROnPlateau scheduler\n",
    "    # scheduler = ReduceLROnPlateau(optimizer, mode='min', factor=0.5, patience=3)\n",
    "\n",
    "    # Early stopping parameters\n",
    "    best_val_loss = float('inf')  # Initialize best validation loss\n",
    "    epochs_without_improvement = 0  # Counter for epochs without improvement\n",
    "\n",
    "    # Store metrics for plotting later\n",
    "    train_losses, val_losses = [], []\n",
    "    train_accuracies, val_accuracies = [], []\n",
    "    \n",
    "    for epoch in range(num_epochs):\n",
    "        print(f\"Epoch {epoch+1}/{num_epochs}\")\n",
    "        \n",
    "        # Training phase with tqdm progress bar\n",
    "        model.train()\n",
    "        running_loss, correct_preds, total_samples = 0.0, 0, 0\n",
    "        \n",
    "        train_loader_tqdm = tqdm(train_loader, desc=\"Training\", leave=False)\n",
    "        for inputs, labels in train_loader_tqdm:\n",
    "            inputs, labels = inputs.to(device), labels.to(device)\n",
    "            \n",
    "            optimizer.zero_grad()\n",
    "            outputs = model(inputs)\n",
    "            loss = criterion(outputs, labels)\n",
    "            loss.backward()\n",
    "            optimizer.step()\n",
    "            \n",
    "            running_loss += loss.item() * inputs.size(0)\n",
    "            _, preds = torch.max(outputs, 1)\n",
    "            correct_preds += (preds == labels).sum().item()\n",
    "            total_samples += labels.size(0)\n",
    "        \n",
    "        epoch_train_loss = running_loss / total_samples\n",
    "        epoch_train_acc = correct_preds / total_samples\n",
    "        \n",
    "        train_losses.append(epoch_train_loss)\n",
    "        train_accuracies.append(epoch_train_acc)\n",
    "\n",
    "        print(f\"Train Loss: {epoch_train_loss:.4f}, Train Accuracy: {epoch_train_acc:.4f}\")\n",
    "      \n",
    "        # Validation phase with tqdm progress bar\n",
    "        model.eval()\n",
    "        running_loss, correct_preds, total_samples = 0.0, 0, 0\n",
    "        \n",
    "        val_loader_tqdm = tqdm(val_loader, desc=\"Validation\", leave=False)\n",
    "        with torch.no_grad():\n",
    "            for inputs, labels in val_loader_tqdm:\n",
    "                inputs, labels = inputs.to(device), labels.to(device)\n",
    "                \n",
    "                outputs = model(inputs)\n",
    "                loss = criterion(outputs, labels)\n",
    "            \n",
    "                running_loss += loss.item() * inputs.size(0)\n",
    "                _, preds = torch.max(outputs, 1)\n",
    "                correct_preds += (preds == labels).sum().item()\n",
    "                total_samples += labels.size(0)\n",
    "        \n",
    "        epoch_val_loss = running_loss / total_samples\n",
    "        epoch_val_acc = correct_preds / total_samples\n",
    "        \n",
    "        val_losses.append(epoch_val_loss)\n",
    "        val_accuracies.append(epoch_val_acc)\n",
    "\n",
    "        print(f\"Val Loss: {epoch_val_loss:.4f}, Val Accuracy: {epoch_val_acc:.4f}\")\n",
    "        # scheduler.step(epoch_val_loss)\n",
    "\n",
    "        # Log the updated learning rate\n",
    "        # current_lr = scheduler.get_last_lr()\n",
    "        # print(f\"Epoch {epoch+1}: Current Learning Rate: {current_lr}\")\n",
    "\n",
    "        # Early stopping logic\n",
    "        if epoch_val_loss < best_val_loss:\n",
    "            best_val_loss = epoch_val_loss\n",
    "            epochs_without_improvement = 0  # Reset counter\n",
    "            print(\"Validation loss improved. \")\n",
    "            # print(\"Saving Model...\")\n",
    "            # torch.save(model.state_dict(), f\"best_model_fold_{fold_idx+1}.pth\")  # Save the best model\n",
    "        else:\n",
    "            epochs_without_improvement += 1\n",
    "            print(f\"No improvement in validation loss for {epochs_without_improvement} epoch(s).\")\n",
    "\n",
    "        if epochs_without_improvement >= patience:\n",
    "            print(\"Early stopping triggered.\")\n",
    "            break\n",
    "\n",
    "    all_train_losses.append(train_losses)\n",
    "    all_val_losses.append(val_losses)\n",
    "    all_train_accuracies.append(train_accuracies)\n",
    "    all_val_accuracies.append(val_accuracies)\n",
    "\n",
    "    # Store validation accuracy of this fold in the results dictionary\n",
    "    results[f\"Fold {fold_idx+1}\"] = epoch_val_acc\n",
    "    results_train[f\"Fold {fold_idx+1}\"] = epoch_train_acc"
   ]
  },
  {
   "cell_type": "code",
   "execution_count": 22,
   "metadata": {},
   "outputs": [
    {
     "name": "stdout",
     "output_type": "stream",
     "text": [
      "\n",
      "Validation Results:\n",
      "Fold 1: 0.6600\n",
      "Fold 2: 0.6456\n",
      "Fold 3: 0.6239\n",
      "Fold 4: 0.5407\n",
      "Fold 5: 0.6504\n",
      "Average Validation Accuracy: 0.6241\n"
     ]
    }
   ],
   "source": [
    "# Calculate average accuracy across all folds\n",
    "average_accuracy = np.mean(list(results.values()))\n",
    "\n",
    "# Print results for each fold and average accuracy\n",
    "print(\"\\nValidation Results:\")\n",
    "for fold_name, accuracy in results.items():\n",
    "    print(f\"{fold_name}: {accuracy:.4f}\")\n",
    "print(f\"Average Validation Accuracy: {average_accuracy:.4f}\")"
   ]
  },
  {
   "cell_type": "code",
   "execution_count": 23,
   "metadata": {},
   "outputs": [
    {
     "name": "stdout",
     "output_type": "stream",
     "text": [
      "\n",
      "Train Results:\n",
      "Fold 1: 0.8919\n",
      "Fold 2: 0.9611\n",
      "Fold 3: 0.9711\n",
      "Fold 4: 0.7386\n",
      "Fold 5: 0.9358\n",
      "Average Train Accuracy: 0.8997\n"
     ]
    }
   ],
   "source": [
    "# Calculate average accuracy across all folds\n",
    "average_train_accuracy = np.mean(list(results_train.values()))\n",
    "\n",
    "# Print results for each fold and average accuracy\n",
    "print(\"\\nTrain Results:\")\n",
    "for fold_name, accuracy in results_train.items():\n",
    "    print(f\"{fold_name}: {accuracy:.4f}\")\n",
    "print(f\"Average Train Accuracy: {average_train_accuracy:.4f}\")"
   ]
  }
 ],
 "metadata": {
  "kernelspec": {
   "display_name": ".venv",
   "language": "python",
   "name": "python3"
  },
  "language_info": {
   "codemirror_mode": {
    "name": "ipython",
    "version": 3
   },
   "file_extension": ".py",
   "mimetype": "text/x-python",
   "name": "python",
   "nbconvert_exporter": "python",
   "pygments_lexer": "ipython3",
   "version": "3.13.1"
  }
 },
 "nbformat": 4,
 "nbformat_minor": 2
}
